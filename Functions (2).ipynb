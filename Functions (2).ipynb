{
  "nbformat": 4,
  "nbformat_minor": 0,
  "metadata": {
    "colab": {
      "provenance": []
    },
    "kernelspec": {
      "name": "python3",
      "display_name": "Python 3"
    },
    "language_info": {
      "name": "python"
    }
  },
  "cells": [
    {
      "cell_type": "markdown",
      "source": [
        "                                 Theory Answers"
      ],
      "metadata": {
        "id": "Nnxt7HAg0y26"
      }
    },
    {
      "cell_type": "markdown",
      "source": [
        "1. What is the difference between a function and a method in Python?\n",
        "A function is a piece of code you write to do something.\n",
        "\n",
        "A method is like a function, but it's built inside an object like a list or string.\n",
        "\n",
        "Example:\n",
        "\n",
        "python\n",
        "Copy\n",
        "Edit\n",
        "def say_hello():  # This is a function\n",
        "\n",
        "  print(\"Hello!\")\n",
        "\n",
        "my_list = [1, 2, 3]\n",
        "\n",
        "my_list.append(4)  # append() is a method of the list"
      ],
      "metadata": {
        "id": "f4QLoU_r0yzj"
      }
    },
    {
      "cell_type": "markdown",
      "source": [
        "2. What are arguments and parameters in Python functions?\n",
        "Parameter is the name you give in the function.\n",
        "\n",
        "Argument is the actual value you pass when calling the function.\n",
        "\n",
        "Example:\n",
        "\n",
        "python\n",
        "Copy\n",
        "Edit\n",
        "def add(a, b):  # a and b are parameters\n",
        "\n",
        "  print(a + b)\n",
        "\n",
        "add(5, 3)  # 5 and 3 are arguments\n"
      ],
      "metadata": {
        "id": "qUNIsRzC0yvw"
      }
    },
    {
      "cell_type": "markdown",
      "source": [
        "3. How can you define and call a function in Python?\n",
        "To define a function, use def.\n",
        "\n",
        "To call it, just use the function name with ().\n",
        "\n",
        "Example:\n",
        "\n",
        "python\n",
        "Copy\n",
        "Edit\n",
        "def greet():\n",
        "\n",
        "   print(\"Hi!\")\n",
        "\n",
        "greet()  # This is calling the function\n"
      ],
      "metadata": {
        "id": "XwECH4RC0ysP"
      }
    },
    {
      "cell_type": "markdown",
      "source": [
        "4. What is the return statement used for in a function?\n",
        "return gives back a result from a function to use later.\n",
        "\n",
        "Example:\n",
        "\n",
        "python\n",
        "Copy\n",
        "Edit\n",
        "def multiply(x, y):\n",
        "\n",
        "   return x * y\n",
        "\n",
        "result = multiply(3, 4)\n",
        "\n",
        "print(result)  # Output: 12\n",
        "\n",
        "\n",
        "5. What are iterators and how are they different from iterables?\n",
        "Iterable: A thing you can loop through (like a list).\n",
        "\n",
        "Iterator: A tool that helps go through items one by one using next().\n",
        "\n",
        "Example:\n",
        "\n",
        "python\n",
        "Copy\n",
        "Edit\n",
        "my_list = [10, 20, 30]\n",
        "\n",
        " #Iterable\n",
        "\n",
        "it = iter(my_list)  # Iterator\n",
        "\n",
        "print(next(it)) 10\n",
        "\n",
        "print(next(it))  20"
      ],
      "metadata": {
        "id": "AxABIHOd0yoe"
      }
    },
    {
      "cell_type": "markdown",
      "source": [
        "6. What is a generator in Python? How do we make it?\n",
        "A generator is like a function but uses yield to give one value at a time.\n",
        "\n",
        "It saves memory.\n",
        "\n",
        "Example:\n",
        "\n",
        "python\n",
        "Copy\n",
        "Edit\n",
        "def numbers():\n",
        "\n",
        "   yield 1\n",
        "\n",
        "   yield 2\n",
        "\n",
        "   yield 3\n",
        "\n",
        "for num in numbers():\n",
        "\n",
        "   print(num)\n"
      ],
      "metadata": {
        "id": "b8EAtMUf0ykX"
      }
    },
    {
      "cell_type": "markdown",
      "source": [
        "7. Why use generators instead of regular functions?\n",
        "\n",
        "They are memory-friendly (don’t store everything at once).\n",
        "\n",
        "They are faster for large data.\n",
        "\n"
      ],
      "metadata": {
        "id": "TqzRJ61p0yhM"
      }
    },
    {
      "cell_type": "markdown",
      "source": [
        "8. What is a lambda function and when do we use it?\n",
        "A lambda is a small, one-line function without a name.\n",
        "\n",
        "We use it when the function is very simple.\n",
        "\n",
        "Example:\n",
        "\n",
        "python\n",
        "\n",
        "Copy\n",
        "\n",
        "Edit\n",
        "\n",
        "square = lambda x: x * x\n",
        "\n",
        "print(square(4))  # Output: 16\n"
      ],
      "metadata": {
        "id": "VW5Wfb_L0yeD"
      }
    },
    {
      "cell_type": "markdown",
      "source": [
        "9. What does the map() function do in Python?\n",
        "map() applies a function to every item in a list.\n",
        "\n",
        "Example:\n",
        "\n",
        "python\n",
        "\n",
        "Copy\n",
        "\n",
        "Edit\n",
        "\n",
        "numbers = [1, 2, 3]\n",
        "\n",
        "doubles = list(map(lambda x: x * 2, numbers))\n",
        "\n",
        "print(doubles)  # [2, 4, 6]\n"
      ],
      "metadata": {
        "id": "ylOfgqsv0yaj"
      }
    },
    {
      "cell_type": "markdown",
      "source": [
        "10. Difference between map(), reduce(), and filter()\n",
        "Function\tWhat it does\n",
        "\n",
        "map()\tChanges all items using a function\n",
        "\n",
        "filter()\tPicks only items that match a rule\n",
        "\n",
        "reduce()\tCombines all items into one value\n",
        "\n",
        "Example:\n",
        "\n",
        "python\n",
        "\n",
        "Copy\n",
        "\n",
        "Edit\n",
        "\n",
        "from functools import reduce\n",
        "\n",
        "nums = [1, 2, 3, 4]\n",
        "\n",
        "print(list(map lambda x: x+1, nums))) [2, 3, 4, 5]\n",
        "\n",
        "print(list(filter(lambda x: x % 2 == 0, nums))) [2, 4]\n",
        "\n",
        "print(reduce(lambda x, y: x + y, nums)) 10\n"
      ],
      "metadata": {
        "id": "lHiOcgoO0yXD"
      }
    },
    {
      "cell_type": "markdown",
      "source": [
        "11. How does reduce() work step by step on list [47,11,42,13]?\n",
        "List: [47, 11, 42, 13]\n",
        "\n",
        "We want to add them using reduce():\n",
        "\n",
        "python\n",
        "\n",
        "Copy\n",
        "\n",
        "Edit\n",
        "\n",
        "from functools import reduce\n",
        "\n",
        "result = reduce(lambda x, y: x + y, [47, 11, 42, 13])\n",
        "\n",
        "print(result)  # Output: 113\n",
        "\n",
        "Steps:\n",
        "\n",
        "47 + 11 = 58\n",
        "\n",
        "58 + 42 = 100\n",
        "\n",
        "100 + 13 = 113\n",
        "\n",
        "Final answer: 113\n",
        "\n"
      ],
      "metadata": {
        "id": "xbPrQlKe0yT5"
      }
    },
    {
      "cell_type": "markdown",
      "source": [
        "                                           Practical Answers"
      ],
      "metadata": {
        "id": "cgpaxwBh0yQr"
      }
    },
    {
      "cell_type": "code",
      "source": [
        " 1. Write a Python function that takes a list of numbers as input and returns the sum of all even numbers in  the list\n",
        "\n",
        "       def sum_of_even_numbers(numbers):\n",
        "    total = 0\n",
        "    for num in numbers:\n",
        "        if num % 2 == 0:  # check if the number is even\n",
        "            total += num\n",
        "    return total\n",
        "\n",
        "# Example:\n",
        "my_list = [1, 4, 7, 10, 3, 8]\n",
        "result = sum_of_even_numbers(my_list)\n",
        "print(\"Sum of even numbers:\", result)\n",
        "\n"
      ],
      "metadata": {
        "id": "U3tAfCdM4QYr"
      },
      "execution_count": null,
      "outputs": []
    },
    {
      "cell_type": "code",
      "source": [
        "2. Create a Python function that accepts a string and returns the reverse of that string\n",
        "\n",
        "def reverse_string(text):\n",
        "    return text[::-1]  # simple way to reverse a string\n",
        "\n",
        "# Example\n",
        "print(reverse_string(\"hello\"))  # Output: \"olleh\"\n",
        "\n"
      ],
      "metadata": {
        "id": "PWXpqOGYPD-Q"
      },
      "execution_count": null,
      "outputs": []
    },
    {
      "cell_type": "code",
      "source": [
        "3. Implement a Python function that takes a list of integers and returns a new list containing the squares of  each numbeer.\n",
        "def square_list(numbers):\n",
        "    result = []\n",
        "    for num in numbers:\n",
        "        result.append(num ** 2)  # square of number\n",
        "    return result\n",
        "\n",
        "# Example\n",
        "print(square_list([1, 2, 3]))  # Output: [1, 4, 9]\n"
      ],
      "metadata": {
        "id": "dBAa_5wBPD66"
      },
      "execution_count": null,
      "outputs": []
    },
    {
      "cell_type": "code",
      "source": [
        " 4. Write a Python function that checks if a given number is prime or not from 1 to 200.\n",
        "\n",
        " def is_prime(n):\n",
        "    if n < 2:\n",
        "        return False\n",
        "    for i in range(2, n):\n",
        "        if n % i == 0:\n",
        "            return False\n",
        "    return True\n",
        "\n",
        "# Check from 1 to 200\n",
        "for number in range(1, 201):\n",
        "    if is_prime(number):\n",
        "        print(number, \"is Prime\")\n"
      ],
      "metadata": {
        "id": "O2HAfxQSPD4a"
      },
      "execution_count": null,
      "outputs": []
    },
    {
      "cell_type": "code",
      "source": [
        " 5. Create an iterator class in Python that generates the Fibonacci sequence up to a specified number of copy.\n",
        "\n",
        "class Fibonacci:\n",
        "    def __init__(self, limit):\n",
        "        self.limit = limit\n",
        "        self.a = 0\n",
        "        self.b = 1\n",
        "        self.count = 0\n",
        "\n",
        "    def __iter__(self):\n",
        "        return self\n",
        "\n",
        "    def __next__(self):\n",
        "        if self.count >= self.limit:\n",
        "            raise StopIteration\n",
        "        self.count += 1\n",
        "        value = self.a\n",
        "        self.a, self.b = self.b, self.a + self.b\n",
        "        return value\n",
        "\n",
        "# Example\n",
        "for num in Fibonacci(7):\n",
        "    print(num)  # Output: 0 1 1 2 3 5 8\n"
      ],
      "metadata": {
        "id": "KgpQakz9PD1p"
      },
      "execution_count": null,
      "outputs": []
    },
    {
      "cell_type": "code",
      "source": [
        " 6. Write a generator function in Python that yields the powers of 2 up to a given exponent.\n",
        "def powers_of_two(limit):\n",
        "    for i in range(limit + 1):\n",
        "        yield 2 ** i\n",
        "\n",
        "# Example\n",
        "for value in powers_of_two(4):\n",
        "    print(value)  # Output: 1 2 4 8 16\n"
      ],
      "metadata": {
        "id": "izUk4XJzPDy2"
      },
      "execution_count": null,
      "outputs": []
    },
    {
      "cell_type": "code",
      "source": [
        " 7. Implement a generator function that reads a file line by line and yields each line as a string.\n",
        "def read_file_line_by_line(filename):\n",
        "    with open(filename, 'r') as file:\n",
        "        for line in file:\n",
        "            yield line.strip()\n"
      ],
      "metadata": {
        "id": "crvKwNDLPDuF"
      },
      "execution_count": null,
      "outputs": []
    },
    {
      "cell_type": "code",
      "source": [
        " 8. Use a lambda function in Python to sort a list of tuples based on the second element of each tuple.\n",
        "\n",
        " data = [(1, 3), (4, 1), (2, 5)]\n",
        "sorted_data = sorted(data, key=lambda x: x[1])\n",
        "print(sorted_data)  # Output: [(4, 1), (1, 3), (2, 5)]\n"
      ],
      "metadata": {
        "id": "aDYvqQpEPDgR"
      },
      "execution_count": null,
      "outputs": []
    },
    {
      "cell_type": "code",
      "source": [
        " 9. Write a Python program that uses `map()` to convert a list of temperatures from Celsius to Fahrenheit.\n",
        " # List of Celsius temperatures\n",
        "celsius = [0, 10, 20, 30]\n",
        "\n",
        "# Convert to Fahrenheit using map and lambda\n",
        "fahrenheit = list(map(lambda c: (c * 9/5) + 32, celsius))\n",
        "\n",
        "# Print result\n",
        "print(fahrenheit)\n"
      ],
      "metadata": {
        "id": "E3UqqqYWQbp-"
      },
      "execution_count": null,
      "outputs": []
    },
    {
      "cell_type": "code",
      "source": [
        " 10. Create a Python program that uses `filter()` to remove all the vowels from a given string.\n",
        "\n",
        "# Input string\n",
        "text = \"Hello World\"\n",
        "\n",
        "# Function to check if a character is not a vowel\n",
        "def not_vowel(char):\n",
        "    return char.lower() not in 'aeiou'\n",
        "\n",
        "# Use filter to remove vowels\n",
        "result = ''.join(filter(not_vowel, text))\n",
        "\n",
        "# Print the result\n",
        "print(\"String without vowels:\", result)\n"
      ],
      "metadata": {
        "id": "cUVXCnyCQbmj"
      },
      "execution_count": null,
      "outputs": []
    }
  ]
}